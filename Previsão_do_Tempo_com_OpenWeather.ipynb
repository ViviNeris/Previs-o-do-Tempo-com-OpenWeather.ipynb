{
  "nbformat": 4,
  "nbformat_minor": 0,
  "metadata": {
    "colab": {
      "provenance": [],
      "toc_visible": true,
      "authorship_tag": "ABX9TyMVXMlmxuVAgPHWHYWk8n8I",
      "include_colab_link": true
    },
    "kernelspec": {
      "name": "python3",
      "display_name": "Python 3"
    },
    "language_info": {
      "name": "python"
    }
  },
  "cells": [
    {
      "cell_type": "markdown",
      "metadata": {
        "id": "view-in-github",
        "colab_type": "text"
      },
      "source": [
        "<a href=\"https://colab.research.google.com/github/ViviNeris/Previs-o-do-Tempo-com-OpenWeather.ipynb/blob/main/Previs%C3%A3o_do_Tempo_com_OpenWeather.ipynb\" target=\"_parent\"><img src=\"https://colab.research.google.com/assets/colab-badge.svg\" alt=\"Open In Colab\"/></a>"
      ]
    },
    {
      "cell_type": "markdown",
      "source": [
        "#Projeto de Previsão do Tempo\n",
        "\n",
        "Pseudocódigo\n",
        "\n",
        "1- Entrar no OpenWeather - Criar conta.\n",
        "\n",
        "2- Entrar em My API Keys.\n",
        "\n",
        "3- Importar biblioteca requests para extrair informações do site OpenWeather.\n",
        "\n",
        "4- Criar variável com a API KEY e copiar o código da chave.\n",
        "\n",
        "5- Criar uma variável cidade para usuário digitar a cidade.\n",
        "\n",
        "6- Criar uma variável com o link da API e inserir '&lang=pt_br\" para traduzir para o português.\n",
        "\n",
        "7- Criar variável que pega as informações do link da OpenWeather chamada \"solicitacao\".\n",
        "\n",
        "8- Criar variável que recebe os atributos da variável \"solicitacao\" + comando json() que melhora a apresentação dos dados.\n",
        "\n",
        "9- Usar comando \"print(dicionario_solicitacao)\" para visualizar todas as informações do tempo disponíveis em forma de dicionário do site OpenWeather.\n",
        "\n",
        "10- Selecionar variáveis que quer mostrar na consulta de previsão do tempo e em alguns casos converter graus Kelvin para graus Celsius.\n",
        "\n",
        "11- Usar o comando \"print\" para mostrar as variáveis selecionadas na etapa acima."
      ],
      "metadata": {
        "id": "q2kBjs49zwda"
      }
    },
    {
      "cell_type": "code",
      "source": [
        "# Importar biblioteca requests para extrair informações do site OpenWeather\n",
        "import requests\n",
        "\n",
        "chave_api = \"e69d5e67886ba2043c2746da9022fcd7\" # Criar variável com a API KEY e copiar o código da chave entre aspas\n",
        "\n",
        "cidades = str(input(\"Digite a Cidade: \")).title() # Criar uma variável cidade para usuário digitar a cidade\n",
        "\n",
        "link = f\"https://api.openweathermap.org/data/2.5/weather?q={cidades}&appid={chave_api}&lang=pt_br\" # Criar uma variável com o link da API e inserir no fim do endereço do link '&lang=pt_br\" para traduzir para o português\n",
        "\n",
        "solicitacao = requests.get(link) # Criar variável que pega as informações do link da OpenWeather chamada \"solicitacao\" usando o comando requests\n",
        "\n",
        "dicionario_solicitacao = (solicitacao.json()) #  Criar variável que recebe os atributos da variável \"solicitacao\" + comando json() que melhora a apresentação dos dados\n",
        "\n",
        "#Usar comando \"print(dicionario_solicitacao)\" para visualizar todas as informações do tempo disponíveis em forma de dicionário do site OpenWeather. Depois podemos apagar esse comando\n",
        "# print(dicionario_solicitacao)\n",
        "\n",
        "#Selecionar variáveis que quer mostrar na consulta de previsão do tempo e em alguns casos converter graus Kelvin para graus Celsius.\n",
        "descricao_tempo = dicionario_solicitacao ['weather'][0]['description']\n",
        "temperatura = dicionario_solicitacao ['main']['temp'] - 273.15\n",
        "sensacao_termica = dicionario_solicitacao ['main'] ['feels_like'] - 273.15\n",
        "temperatura_min = dicionario_solicitacao ['main'] ['temp_min'] - 273.15\n",
        "temperatura_max = dicionario_solicitacao ['main'] ['temp_max'] - 273.15\n",
        "\n",
        "# Usar o comando \"print\" para mostrar as variáveis selecionadas na etapa acima\n",
        "print(f\" Descrição do Tempo: {descricao_tempo}\")\n",
        "print(f\" A temperatura agora é de : {temperatura:.1f} °C\")\n",
        "print(f\" A sensação térmica é de : {sensacao_termica:.1f} °C\")\n",
        "print(f\" A temperatura mínima de hoje é de : {temperatura_min:.1f} °C\")\n",
        "print(f\" A temperatura máxima de hoje é de : {temperatura_max:.1f} °C\")"
      ],
      "metadata": {
        "colab": {
          "base_uri": "https://localhost:8080/"
        },
        "id": "u5OzFREr4UUz",
        "outputId": "c9dbb423-5a16-4f74-ac1e-328c2b73c1fb"
      },
      "execution_count": null,
      "outputs": [
        {
          "output_type": "stream",
          "name": "stdout",
          "text": [
            "Digite a Cidade: são paulo\n",
            " Descrição do Tempo: céu limpo\n",
            " A temperatura agora é de : 20.3 °C\n",
            " A sensação térmica é de : 20.0 °C\n",
            " A temperatura mínima de hoje é de : 18.8 °C\n",
            " A temperatura máxima de hoje é de : 23.6 °C\n"
          ]
        }
      ]
    }
  ]
}